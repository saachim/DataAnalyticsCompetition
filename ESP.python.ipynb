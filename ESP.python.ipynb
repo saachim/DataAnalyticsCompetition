{
 "cells": [
  {
   "cell_type": "markdown",
   "metadata": {
    "collapsed": true
   },
   "source": [
    "# Cleaning data"
   ]
  },
  {
   "cell_type": "code",
   "execution_count": 37,
   "metadata": {
    "collapsed": true
   },
   "outputs": [],
   "source": [
    "import pandas as pd \n",
    "import numpy as np\n",
    "import csv"
   ]
  },
  {
   "cell_type": "code",
   "execution_count": 361,
   "metadata": {
    "collapsed": false
   },
   "outputs": [],
   "source": [
    "esp_df = pd.read_excel('final.esp.xlsx')"
   ]
  },
  {
   "cell_type": "code",
   "execution_count": 371,
   "metadata": {
    "collapsed": false
   },
   "outputs": [
    {
     "data": {
      "text/plain": [
       "Index(['esp.sr.no', 'vendor', 'depth', 'perf', 'date.install', 'water.cut',\n",
       "       'daily.flow', 'num.work.orders', 'avg.uptime',\n",
       "       'avg.maintenance.cost.monthly', 'daily.production.variance', 'Ti.C',\n",
       "       'time', 'Pi.Psia', 'Vx.g', 'Vy.g', 'Tm.C', 'MOR.Ohm', 'Lv.V', 'status'],\n",
       "      dtype='object')"
      ]
     },
     "execution_count": 371,
     "metadata": {},
     "output_type": "execute_result"
    }
   ],
   "source": [
    "esp_df.columns"
   ]
  },
  {
   "cell_type": "code",
   "execution_count": 363,
   "metadata": {
    "collapsed": false
   },
   "outputs": [
    {
     "data": {
      "text/plain": [
       "True"
      ]
     },
     "execution_count": 363,
     "metadata": {},
     "output_type": "execute_result"
    }
   ],
   "source": [
    "esp_df.isnull().values.any()\n"
   ]
  },
  {
   "cell_type": "code",
   "execution_count": 364,
   "metadata": {
    "collapsed": false
   },
   "outputs": [
    {
     "data": {
      "text/plain": [
       "300"
      ]
     },
     "execution_count": 364,
     "metadata": {},
     "output_type": "execute_result"
    }
   ],
   "source": [
    "esp_df.isnull().sum().sum()"
   ]
  },
  {
   "cell_type": "code",
   "execution_count": 365,
   "metadata": {
    "collapsed": false
   },
   "outputs": [],
   "source": [
    "esp_df = esp_df.dropna()"
   ]
  },
  {
   "cell_type": "code",
   "execution_count": 366,
   "metadata": {
    "collapsed": false
   },
   "outputs": [
    {
     "data": {
      "text/plain": [
       "0"
      ]
     },
     "execution_count": 366,
     "metadata": {},
     "output_type": "execute_result"
    }
   ],
   "source": [
    "esp_df.isnull().sum().sum()"
   ]
  },
  {
   "cell_type": "code",
   "execution_count": 367,
   "metadata": {
    "collapsed": false
   },
   "outputs": [
    {
     "data": {
      "text/plain": [
       "Index(['esp.sr.no', 'vendor', 'depth', 'perf', 'date.install', 'water.cut',\n",
       "       'daily.flow', 'num.work.orders', 'avg.uptime',\n",
       "       'avg.maintenance.cost.monthly', 'daily.production.variance', 'Ti.C',\n",
       "       'time', 'Pi.Psia', 'Vx.g', 'Vy.g', 'Tm.C', 'MOR.Ohm', 'Lv.V', 'status'],\n",
       "      dtype='object')"
      ]
     },
     "execution_count": 367,
     "metadata": {},
     "output_type": "execute_result"
    }
   ],
   "source": [
    "esp_df = esp_df[[\"esp.sr.no\",  \"vendor\", \"depth\", \"perf\", \"date.install\", \"water.cut\", \"daily.flow\", \"num.work.orders\", \"avg.uptime\", \"avg.maintenance.cost.monthly\", \"daily.production.variance\", \"Ti.C\",\"time\", \"Pi.Psia\", \"Vx.g\",\"Vy.g\", \"Tm.C\", \"MOR.Ohm\", \"Lv.V\", \"status\"]]\n",
    "\n",
    "esp_df.columns"
   ]
  },
  {
   "cell_type": "code",
   "execution_count": 374,
   "metadata": {
    "collapsed": false
   },
   "outputs": [
    {
     "data": {
      "text/plain": [
       "pandas.core.series.Series"
      ]
     },
     "execution_count": 374,
     "metadata": {},
     "output_type": "execute_result"
    }
   ],
   "source": [
    "#str(esp_df['esp.sr.no'])\n",
    "type(esp_df['esp.sr.no'])\n",
    "#esp_df.apply(lambda x: pd.to_float(x, errors='ignore'))"
   ]
  },
  {
   "cell_type": "code",
   "execution_count": 375,
   "metadata": {
    "collapsed": false
   },
   "outputs": [],
   "source": [
    "esp_v1_df = esp_df[esp_df[\"vendor\"] == \"Vendor 1\"]\n",
    "esp_v2_df = esp_df[esp_df[\"vendor\"] == \"Vendor 2\"]\n",
    "esp_v3_df = esp_df[esp_df[\"vendor\"] == \"Vendor 3\"]\n"
   ]
  },
  {
   "cell_type": "markdown",
   "metadata": {},
   "source": [
    "# split testing/training data"
   ]
  },
  {
   "cell_type": "code",
   "execution_count": 376,
   "metadata": {
    "collapsed": false
   },
   "outputs": [],
   "source": [
    "from sklearn.cross_validation import train_test_split\n",
    "esp_v1_df_train, esp_v1_df_test = train_test_split(esp_v1_df, test_size = 0.3)\n",
    "esp_v2_df_train, esp_v2_df_test = train_test_split(esp_v2_df, test_size = 0.3)\n",
    "esp_v3_df_train, esp_v3_df_test = train_test_split(esp_v3_df, test_size = 0.3)\n"
   ]
  },
  {
   "cell_type": "code",
   "execution_count": 377,
   "metadata": {
    "collapsed": false
   },
   "outputs": [
    {
     "data": {
      "text/plain": [
       "18078"
      ]
     },
     "execution_count": 377,
     "metadata": {},
     "output_type": "execute_result"
    }
   ],
   "source": [
    "esp_v1_df_train.shape[0]"
   ]
  },
  {
   "cell_type": "code",
   "execution_count": 378,
   "metadata": {
    "collapsed": true
   },
   "outputs": [],
   "source": [
    "from sklearn import tree\n",
    "from sklearn.tree import DecisionTreeClassifier\n",
    "from sklearn.metrics import confusion_matrix"
   ]
  },
  {
   "cell_type": "markdown",
   "metadata": {},
   "source": [
    "### KNN"
   ]
  },
  {
   "cell_type": "markdown",
   "metadata": {},
   "source": [
    "#### vendor 1"
   ]
  },
  {
   "cell_type": "code",
   "execution_count": 340,
   "metadata": {
    "collapsed": true
   },
   "outputs": [],
   "source": [
    "from sklearn import neighbors"
   ]
  },
  {
   "cell_type": "code",
   "execution_count": 379,
   "metadata": {
    "collapsed": true
   },
   "outputs": [],
   "source": [
    "v1_knn1_model = neighbors.KNeighborsClassifier(n_neighbors = 3)\n",
    "v1_knn2_model = neighbors.KNeighborsClassifier(n_neighbors = 20)"
   ]
  },
  {
   "cell_type": "code",
   "execution_count": 380,
   "metadata": {
    "collapsed": false
   },
   "outputs": [],
   "source": [
    "attributes_columns = [\"Pi.Psia\", \"Vx.g\", \"MOR.Ohm\", \"Lv.V\", \"Vy.g\"]\n",
    "attributes = esp_v1_df_train[list(attributes_columns)].values\n",
    "class_label = esp_v1_df_train[\"status\"].values"
   ]
  },
  {
   "cell_type": "code",
   "execution_count": 370,
   "metadata": {
    "collapsed": false
   },
   "outputs": [
    {
     "data": {
      "text/plain": [
       "KNeighborsClassifier(algorithm='auto', leaf_size=30, metric='minkowski',\n",
       "           metric_params=None, n_jobs=1, n_neighbors=20, p=2,\n",
       "           weights='uniform')"
      ]
     },
     "execution_count": 370,
     "metadata": {},
     "output_type": "execute_result"
    }
   ],
   "source": [
    "v1_knn1_model.fit(attributes, class_label)\n",
    "v1_knn2_model.fit(attributes, class_label)"
   ]
  },
  {
   "cell_type": "code",
   "execution_count": 344,
   "metadata": {
    "collapsed": false
   },
   "outputs": [
    {
     "name": "stdout",
     "output_type": "stream",
     "text": [
      "['Running' 'Running' 'Running' ..., 'Running' 'Warning' 'Running']\n",
      "['Running' 'Running' 'Running' ..., 'Running' 'Warning' 'Running']\n"
     ]
    }
   ],
   "source": [
    "prediction1 = v1_knn1_model.predict(esp_v1_df_test[attributes_columns]) \n",
    "prediction2 = v1_knn2_model.predict(esp_v1_df_test[attributes_columns]) \n",
    "print(prediction1)\n",
    "print(prediction2)"
   ]
  },
  {
   "cell_type": "code",
   "execution_count": 345,
   "metadata": {
    "collapsed": false
   },
   "outputs": [],
   "source": [
    "accuracy1 = np.where(prediction1==esp_v1_df_test['status'], 1, 0).sum() / float(len(esp_v1_df_test))\n",
    "accuracy2 = np.where(prediction2==esp_v1_df_test['status'], 1, 0).sum() / float(len(esp_v1_df_test))"
   ]
  },
  {
   "cell_type": "code",
   "execution_count": 346,
   "metadata": {
    "collapsed": false
   },
   "outputs": [
    {
     "data": {
      "text/plain": [
       "0.87572590011614404"
      ]
     },
     "execution_count": 346,
     "metadata": {},
     "output_type": "execute_result"
    }
   ],
   "source": [
    "accuracy3"
   ]
  },
  {
   "cell_type": "code",
   "execution_count": 347,
   "metadata": {
    "collapsed": false
   },
   "outputs": [
    {
     "data": {
      "text/plain": [
       "0.88140405213575945"
      ]
     },
     "execution_count": 347,
     "metadata": {},
     "output_type": "execute_result"
    }
   ],
   "source": [
    "accuracy12"
   ]
  },
  {
   "cell_type": "code",
   "execution_count": 348,
   "metadata": {
    "collapsed": false
   },
   "outputs": [],
   "source": [
    "accuracy1_array = confusion_matrix(esp_v1_df_test['status'], prediction1)\n",
    "accuracy2_array = confusion_matrix(esp_v1_df_test['status'], prediction2)"
   ]
  },
  {
   "cell_type": "code",
   "execution_count": 349,
   "metadata": {
    "collapsed": false
   },
   "outputs": [
    {
     "data": {
      "text/plain": [
       "array([[ 111,   78,  273],\n",
       "       [  43, 5983,  142],\n",
       "       [ 262,  300,  557]])"
      ]
     },
     "execution_count": 349,
     "metadata": {},
     "output_type": "execute_result"
    }
   ],
   "source": [
    "accuracy1_array"
   ]
  },
  {
   "cell_type": "code",
   "execution_count": 350,
   "metadata": {
    "collapsed": false
   },
   "outputs": [
    {
     "data": {
      "text/plain": [
       "array([[  41,   87,  334],\n",
       "       [  18, 6019,  131],\n",
       "       [  95,  325,  699]])"
      ]
     },
     "execution_count": 350,
     "metadata": {},
     "output_type": "execute_result"
    }
   ],
   "source": [
    "accuracy2_array"
   ]
  },
  {
   "cell_type": "markdown",
   "metadata": {},
   "source": [
    "###### knn with a comparison of 12 nearest neighbers has the best accuracy for vendor 1"
   ]
  },
  {
   "cell_type": "markdown",
   "metadata": {},
   "source": [
    "#### vendor 2"
   ]
  },
  {
   "cell_type": "code",
   "execution_count": 351,
   "metadata": {
    "collapsed": true
   },
   "outputs": [],
   "source": [
    "v2_knn1_model = neighbors.KNeighborsClassifier(n_neighbors = 9)\n",
    "v2_knn2_model = neighbors.KNeighborsClassifier(n_neighbors = 12)"
   ]
  },
  {
   "cell_type": "code",
   "execution_count": 352,
   "metadata": {
    "collapsed": true
   },
   "outputs": [],
   "source": [
    "attributes_columns = [\"Pi.Psia\", \"Vx.g\", \"MOR.Ohm\", \"Lv.V\", \"Vy.g\"]\n",
    "attributes = esp_v2_df_train[list(attributes_columns)].values\n",
    "class_label = esp_v2_df_train[\"status\"].values"
   ]
  },
  {
   "cell_type": "code",
   "execution_count": 353,
   "metadata": {
    "collapsed": false
   },
   "outputs": [
    {
     "data": {
      "text/plain": [
       "KNeighborsClassifier(algorithm='auto', leaf_size=30, metric='minkowski',\n",
       "           metric_params=None, n_jobs=1, n_neighbors=12, p=2,\n",
       "           weights='uniform')"
      ]
     },
     "execution_count": 353,
     "metadata": {},
     "output_type": "execute_result"
    }
   ],
   "source": [
    "v2_knn1_model.fit(attributes, class_label)\n",
    "v2_knn2_model.fit(attributes, class_label)"
   ]
  },
  {
   "cell_type": "code",
   "execution_count": 354,
   "metadata": {
    "collapsed": false
   },
   "outputs": [
    {
     "name": "stdout",
     "output_type": "stream",
     "text": [
      "['Running' 'Running' 'Running' ..., 'Running' 'Running' 'Running']\n",
      "['Running' 'Running' 'Running' ..., 'Running' 'Running' 'Running']\n"
     ]
    }
   ],
   "source": [
    "prediction_v2_1 = v2_knn1_model.predict(esp_v2_df_test[attributes_columns]) \n",
    "prediction_v2_2 = v2_knn2_model.predict(esp_v2_df_test[attributes_columns]) \n",
    "print(prediction_v2_3)\n",
    "print(prediction_v2_3)"
   ]
  },
  {
   "cell_type": "code",
   "execution_count": 355,
   "metadata": {
    "collapsed": true
   },
   "outputs": [],
   "source": [
    "accuracy_v2_1 = np.where(prediction_v2_1==esp_v2_df_test['status'], 1, 0).sum() / float(len(esp_v2_df_test))\n",
    "accuracy_v2_2 = np.where(prediction_v2_2==esp_v2_df_test['status'], 1, 0).sum() / float(len(esp_v2_df_test))"
   ]
  },
  {
   "cell_type": "code",
   "execution_count": 356,
   "metadata": {
    "collapsed": false
   },
   "outputs": [
    {
     "data": {
      "text/plain": [
       "0.89575577066269541"
      ]
     },
     "execution_count": 356,
     "metadata": {},
     "output_type": "execute_result"
    }
   ],
   "source": [
    "accuracy_v2_1"
   ]
  },
  {
   "cell_type": "code",
   "execution_count": 357,
   "metadata": {
    "collapsed": false
   },
   "outputs": [
    {
     "data": {
      "text/plain": [
       "0.89575577066269541"
      ]
     },
     "execution_count": 357,
     "metadata": {},
     "output_type": "execute_result"
    }
   ],
   "source": [
    "accuracy_v2_2"
   ]
  },
  {
   "cell_type": "markdown",
   "metadata": {},
   "source": [
    "###### after playing around with the number of clusters, we descovered that 9 is the first number with the greatest accuracy for vendor 2"
   ]
  },
  {
   "cell_type": "code",
   "execution_count": 387,
   "metadata": {
    "collapsed": true
   },
   "outputs": [],
   "source": [
    "v3_knn1_model = neighbors.KNeighborsClassifier(n_neighbors = 9)\n",
    "v3_knn2_model = neighbors.KNeighborsClassifier(n_neighbors = 12)"
   ]
  },
  {
   "cell_type": "code",
   "execution_count": 388,
   "metadata": {
    "collapsed": true
   },
   "outputs": [],
   "source": [
    "attributes_columns = [\"Pi.Psia\", \"Vx.g\", \"MOR.Ohm\", \"Lv.V\", \"Vy.g\"]\n",
    "attributes = esp_v3_df_train[list(attributes_columns)].values\n",
    "class_label = esp_v3_df_train[\"status\"].values"
   ]
  },
  {
   "cell_type": "code",
   "execution_count": 389,
   "metadata": {
    "collapsed": false
   },
   "outputs": [
    {
     "ename": "NotFittedError",
     "evalue": "Must fit neighbors before querying.",
     "output_type": "error",
     "traceback": [
      "\u001b[0;31m---------------------------------------------------------------------------\u001b[0m",
      "\u001b[0;31mNotFittedError\u001b[0m                            Traceback (most recent call last)",
      "\u001b[0;32m<ipython-input-389-a9726df12341>\u001b[0m in \u001b[0;36m<module>\u001b[0;34m()\u001b[0m\n\u001b[0;32m----> 1\u001b[0;31m \u001b[0mprediction_v3_1\u001b[0m \u001b[0;34m=\u001b[0m \u001b[0mv3_knn1_model\u001b[0m\u001b[0;34m.\u001b[0m\u001b[0mpredict\u001b[0m\u001b[0;34m(\u001b[0m\u001b[0mesp_v3_df_test\u001b[0m\u001b[0;34m[\u001b[0m\u001b[0mattributes_columns\u001b[0m\u001b[0;34m]\u001b[0m\u001b[0;34m)\u001b[0m\u001b[0;34m\u001b[0m\u001b[0m\n\u001b[0m\u001b[1;32m      2\u001b[0m \u001b[0mprediction_v3_2\u001b[0m \u001b[0;34m=\u001b[0m \u001b[0mv3_knn2_model\u001b[0m\u001b[0;34m.\u001b[0m\u001b[0mpredict\u001b[0m\u001b[0;34m(\u001b[0m\u001b[0mesp_v3_df_test\u001b[0m\u001b[0;34m[\u001b[0m\u001b[0mattributes_columns\u001b[0m\u001b[0;34m]\u001b[0m\u001b[0;34m)\u001b[0m\u001b[0;34m\u001b[0m\u001b[0m\n\u001b[1;32m      3\u001b[0m \u001b[0mprint\u001b[0m\u001b[0;34m(\u001b[0m\u001b[0mprediction_v3_3\u001b[0m\u001b[0;34m)\u001b[0m\u001b[0;34m\u001b[0m\u001b[0m\n\u001b[1;32m      4\u001b[0m \u001b[0mprint\u001b[0m\u001b[0;34m(\u001b[0m\u001b[0mprediction_v3_3\u001b[0m\u001b[0;34m)\u001b[0m\u001b[0;34m\u001b[0m\u001b[0m\n",
      "\u001b[0;32m/Users/emilymontana/anaconda/lib/python3.5/site-packages/sklearn/neighbors/classification.py\u001b[0m in \u001b[0;36mpredict\u001b[0;34m(self, X)\u001b[0m\n\u001b[1;32m    145\u001b[0m         \u001b[0mX\u001b[0m \u001b[0;34m=\u001b[0m \u001b[0mcheck_array\u001b[0m\u001b[0;34m(\u001b[0m\u001b[0mX\u001b[0m\u001b[0;34m,\u001b[0m \u001b[0maccept_sparse\u001b[0m\u001b[0;34m=\u001b[0m\u001b[0;34m'csr'\u001b[0m\u001b[0;34m)\u001b[0m\u001b[0;34m\u001b[0m\u001b[0m\n\u001b[1;32m    146\u001b[0m \u001b[0;34m\u001b[0m\u001b[0m\n\u001b[0;32m--> 147\u001b[0;31m         \u001b[0mneigh_dist\u001b[0m\u001b[0;34m,\u001b[0m \u001b[0mneigh_ind\u001b[0m \u001b[0;34m=\u001b[0m \u001b[0mself\u001b[0m\u001b[0;34m.\u001b[0m\u001b[0mkneighbors\u001b[0m\u001b[0;34m(\u001b[0m\u001b[0mX\u001b[0m\u001b[0;34m)\u001b[0m\u001b[0;34m\u001b[0m\u001b[0m\n\u001b[0m\u001b[1;32m    148\u001b[0m \u001b[0;34m\u001b[0m\u001b[0m\n\u001b[1;32m    149\u001b[0m         \u001b[0mclasses_\u001b[0m \u001b[0;34m=\u001b[0m \u001b[0mself\u001b[0m\u001b[0;34m.\u001b[0m\u001b[0mclasses_\u001b[0m\u001b[0;34m\u001b[0m\u001b[0m\n",
      "\u001b[0;32m/Users/emilymontana/anaconda/lib/python3.5/site-packages/sklearn/neighbors/base.py\u001b[0m in \u001b[0;36mkneighbors\u001b[0;34m(self, X, n_neighbors, return_distance)\u001b[0m\n\u001b[1;32m    339\u001b[0m         \"\"\"\n\u001b[1;32m    340\u001b[0m         \u001b[0;32mif\u001b[0m \u001b[0mself\u001b[0m\u001b[0;34m.\u001b[0m\u001b[0m_fit_method\u001b[0m \u001b[0;32mis\u001b[0m \u001b[0;32mNone\u001b[0m\u001b[0;34m:\u001b[0m\u001b[0;34m\u001b[0m\u001b[0m\n\u001b[0;32m--> 341\u001b[0;31m             \u001b[0;32mraise\u001b[0m \u001b[0mNotFittedError\u001b[0m\u001b[0;34m(\u001b[0m\u001b[0;34m\"Must fit neighbors before querying.\"\u001b[0m\u001b[0;34m)\u001b[0m\u001b[0;34m\u001b[0m\u001b[0m\n\u001b[0m\u001b[1;32m    342\u001b[0m \u001b[0;34m\u001b[0m\u001b[0m\n\u001b[1;32m    343\u001b[0m         \u001b[0;32mif\u001b[0m \u001b[0mn_neighbors\u001b[0m \u001b[0;32mis\u001b[0m \u001b[0;32mNone\u001b[0m\u001b[0;34m:\u001b[0m\u001b[0;34m\u001b[0m\u001b[0m\n",
      "\u001b[0;31mNotFittedError\u001b[0m: Must fit neighbors before querying."
     ]
    }
   ],
   "source": [
    "prediction_v3_1 = v3_knn1_model.predict(esp_v3_df_test[attributes_columns]) \n",
    "prediction_v3_2 = v3_knn2_model.predict(esp_v3_df_test[attributes_columns]) \n",
    "print(prediction_v3_3)\n",
    "print(prediction_v3_3)"
   ]
  },
  {
   "cell_type": "code",
   "execution_count": null,
   "metadata": {
    "collapsed": true
   },
   "outputs": [],
   "source": [
    "accuracy_v3_1 = np.where(prediction_v3_1==esp_v3_df_test['status'], 1, 0).sum() / float(len(esp_v3_df_test))\n",
    "accuracy_v3_2 = np.where(prediction_v3_2==esp_v3_df_test['status'], 1, 0).sum() / float(len(esp_v3_df_test))"
   ]
  },
  {
   "cell_type": "code",
   "execution_count": null,
   "metadata": {
    "collapsed": true
   },
   "outputs": [],
   "source": [
    "accuracy_v3_1"
   ]
  },
  {
   "cell_type": "code",
   "execution_count": null,
   "metadata": {
    "collapsed": true
   },
   "outputs": [],
   "source": [
    "accuracy_v3_2"
   ]
  },
  {
   "cell_type": "markdown",
   "metadata": {},
   "source": [
    "### Decision tree"
   ]
  },
  {
   "cell_type": "code",
   "execution_count": null,
   "metadata": {
    "collapsed": true
   },
   "outputs": [],
   "source": [
    "\"Pi.Psia\", \"Vx.g\", \"MOR.Ohm\", \"Lv.V"
   ]
  },
  {
   "cell_type": "code",
   "execution_count": 104,
   "metadata": {
    "collapsed": false
   },
   "outputs": [
    {
     "data": {
      "text/plain": [
       "DecisionTreeClassifier(class_weight=None, criterion='gini', max_depth=None,\n",
       "            max_features=None, max_leaf_nodes=None, min_samples_leaf=1,\n",
       "            min_samples_split=2, min_weight_fraction_leaf=0.0,\n",
       "            presort=False, random_state=None, splitter='best')"
      ]
     },
     "execution_count": 104,
     "metadata": {},
     "output_type": "execute_result"
    }
   ],
   "source": [
    "ESP_tree = DecisionTreeClassifier()\n",
    "ESP_tree.fit(esp_v1_df_train[[\"Pi.Psia\", \"Vx.g\", \"MOR.Ohm\", \"Lv.V\"]], \n",
    "                   esp_v1_df_train[\"status\"])\n"
   ]
  },
  {
   "cell_type": "code",
   "execution_count": 105,
   "metadata": {
    "collapsed": true
   },
   "outputs": [],
   "source": [
    "with open(\"output.dot\", \"w\") as output_file:\n",
    "    tree.export_graphviz(ESP_tree, out_file=output_file)"
   ]
  },
  {
   "cell_type": "code",
   "execution_count": 106,
   "metadata": {
    "collapsed": false
   },
   "outputs": [
    {
     "data": {
      "text/plain": [
       "array([[  43,   58,  360],\n",
       "       [  13, 6064,  114],\n",
       "       [  97,  237,  763]])"
      ]
     },
     "execution_count": 106,
     "metadata": {},
     "output_type": "execute_result"
    }
   ],
   "source": [
    "prediction_tree = ESP_tree.predict(esp_v1_df_test[[\"Pi.Psia\", \"Vx.g\", \"MOR.Ohm\", \"Lv.V\"]])\n",
    "\n",
    "accuracy_array = confusion_matrix(esp_v1_df_test['status'], prediction_tree)\n",
    "accuracy_array"
   ]
  },
  {
   "cell_type": "code",
   "execution_count": 107,
   "metadata": {
    "collapsed": false
   },
   "outputs": [
    {
     "data": {
      "text/plain": [
       "0.886566008517228"
      ]
     },
     "execution_count": 107,
     "metadata": {},
     "output_type": "execute_result"
    }
   ],
   "source": [
    "accuracy_array.diagonal().sum().astype(int)/accuracy_array.sum().astype(int)\n",
    "#0.886566008517228"
   ]
  },
  {
   "cell_type": "markdown",
   "metadata": {},
   "source": [
    "##### vendor 2"
   ]
  },
  {
   "cell_type": "code",
   "execution_count": 123,
   "metadata": {
    "collapsed": false
   },
   "outputs": [
    {
     "data": {
      "text/plain": [
       "DecisionTreeClassifier(class_weight=None, criterion='gini', max_depth=None,\n",
       "            max_features=None, max_leaf_nodes=None, min_samples_leaf=1,\n",
       "            min_samples_split=2, min_weight_fraction_leaf=0.0,\n",
       "            presort=False, random_state=None, splitter='best')"
      ]
     },
     "execution_count": 123,
     "metadata": {},
     "output_type": "execute_result"
    }
   ],
   "source": [
    "ESP2_tree = DecisionTreeClassifier()\n",
    "ESP2_tree.fit(esp_v2_df_train[[\"Vx.g\", \"MOR.Ohm\", \"Lv.V\"]], \n",
    "                   esp_v2_df_train[\"status\"])"
   ]
  },
  {
   "cell_type": "code",
   "execution_count": 116,
   "metadata": {
    "collapsed": true
   },
   "outputs": [],
   "source": [
    "with open(\"output2.dot\", \"w\") as output_file:\n",
    "    tree.export_graphviz(ESP2_tree, out_file=output_file)"
   ]
  },
  {
   "cell_type": "code",
   "execution_count": 124,
   "metadata": {
    "collapsed": false
   },
   "outputs": [
    {
     "data": {
      "text/plain": [
       "array([[   0,  269,    0],\n",
       "       [   0, 4821,    0],\n",
       "       [   0,  282,    0]])"
      ]
     },
     "execution_count": 124,
     "metadata": {},
     "output_type": "execute_result"
    }
   ],
   "source": [
    "prediction2_tree = ESP2_tree.predict(esp_v2_df_test[[ \"Vx.g\", \"MOR.Ohm\", \"Lv.V\"]])\n",
    "\n",
    "accuracy2_array = confusion_matrix(esp_v2_df_test['status'], prediction2_tree)\n",
    "accuracy2_array"
   ]
  },
  {
   "cell_type": "code",
   "execution_count": 125,
   "metadata": {
    "collapsed": false
   },
   "outputs": [
    {
     "data": {
      "text/plain": [
       "0.62214479287650015"
      ]
     },
     "execution_count": 125,
     "metadata": {},
     "output_type": "execute_result"
    }
   ],
   "source": [
    "accuracy2_array.diagonal().sum().astype(int)/accuracy_array.sum().astype(int)"
   ]
  },
  {
   "cell_type": "code",
   "execution_count": null,
   "metadata": {
    "collapsed": true
   },
   "outputs": [],
   "source": []
  }
 ],
 "metadata": {
  "anaconda-cloud": {},
  "kernelspec": {
   "display_name": "Python [default]",
   "language": "python",
   "name": "python3"
  },
  "language_info": {
   "codemirror_mode": {
    "name": "ipython",
    "version": 3
   },
   "file_extension": ".py",
   "mimetype": "text/x-python",
   "name": "python",
   "nbconvert_exporter": "python",
   "pygments_lexer": "ipython3",
   "version": "3.5.2"
  }
 },
 "nbformat": 4,
 "nbformat_minor": 1
}
